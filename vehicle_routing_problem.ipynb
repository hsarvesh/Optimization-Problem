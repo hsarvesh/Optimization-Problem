{
 "cells": [
  {
   "cell_type": "code",
   "execution_count": 1,
   "metadata": {},
   "outputs": [],
   "source": [
    "#Import neccesary libraries\n",
    "import pandas as pd\n",
    "import numpy as np\n",
    "import matplotlib.pyplot as plt\n",
    "plt.style.use('seaborn-whitegrid')\n",
    "import seaborn as sns\n",
    "import os\n",
    "from scipy.spatial import distance_matrix"
   ]
  },
  {
   "cell_type": "code",
   "execution_count": 2,
   "metadata": {},
   "outputs": [],
   "source": [
    "os.chdir('E:\\\\Data_science\\\\Microland\\\\Assignment2\\\\Output')"
   ]
  },
  {
   "cell_type": "markdown",
   "metadata": {},
   "source": [
    "#### Importing the dataset so that we can use it for the further proceedings :\n",
    "Read Data"
   ]
  },
  {
   "cell_type": "code",
   "execution_count": 3,
   "metadata": {},
   "outputs": [],
   "source": [
    "df = pd.read_excel('Vehicle_routing_problem.xlsx')\n"
   ]
  },
  {
   "cell_type": "code",
   "execution_count": 4,
   "metadata": {},
   "outputs": [
    {
     "data": {
      "text/plain": [
       "Index(['place', 'weight', 'x_coordinate', 'y_coordinate'], dtype='object')"
      ]
     },
     "execution_count": 4,
     "metadata": {},
     "output_type": "execute_result"
    }
   ],
   "source": [
    "# See Data in the file\n",
    "df.columns"
   ]
  },
  {
   "cell_type": "code",
   "execution_count": 5,
   "metadata": {},
   "outputs": [
    {
     "name": "stdout",
     "output_type": "stream",
     "text": [
      "<class 'pandas.core.frame.DataFrame'>\n",
      "RangeIndex: 100 entries, 0 to 99\n",
      "Data columns (total 4 columns):\n",
      " #   Column        Non-Null Count  Dtype\n",
      "---  ------        --------------  -----\n",
      " 0   place         100 non-null    int64\n",
      " 1   weight        100 non-null    int64\n",
      " 2   x_coordinate  100 non-null    int64\n",
      " 3   y_coordinate  100 non-null    int64\n",
      "dtypes: int64(4)\n",
      "memory usage: 3.2 KB\n"
     ]
    }
   ],
   "source": [
    "# Getting the information of the dataframe.\n",
    "df.info()  # All data types are integer"
   ]
  },
  {
   "cell_type": "code",
   "execution_count": 6,
   "metadata": {},
   "outputs": [
    {
     "data": {
      "text/html": [
       "<div>\n",
       "<style scoped>\n",
       "    .dataframe tbody tr th:only-of-type {\n",
       "        vertical-align: middle;\n",
       "    }\n",
       "\n",
       "    .dataframe tbody tr th {\n",
       "        vertical-align: top;\n",
       "    }\n",
       "\n",
       "    .dataframe thead th {\n",
       "        text-align: right;\n",
       "    }\n",
       "</style>\n",
       "<table border=\"1\" class=\"dataframe\">\n",
       "  <thead>\n",
       "    <tr style=\"text-align: right;\">\n",
       "      <th></th>\n",
       "      <th>place</th>\n",
       "      <th>weight</th>\n",
       "      <th>x_coordinate</th>\n",
       "      <th>y_coordinate</th>\n",
       "    </tr>\n",
       "  </thead>\n",
       "  <tbody>\n",
       "  </tbody>\n",
       "</table>\n",
       "</div>"
      ],
      "text/plain": [
       "Empty DataFrame\n",
       "Columns: [place, weight, x_coordinate, y_coordinate]\n",
       "Index: []"
      ]
     },
     "execution_count": 6,
     "metadata": {},
     "output_type": "execute_result"
    }
   ],
   "source": [
    "df[df.duplicated()]"
   ]
  },
  {
   "cell_type": "code",
   "execution_count": 7,
   "metadata": {},
   "outputs": [
    {
     "data": {
      "text/plain": [
       "place           100\n",
       "weight           58\n",
       "x_coordinate     60\n",
       "y_coordinate     57\n",
       "dtype: int64"
      ]
     },
     "execution_count": 7,
     "metadata": {},
     "output_type": "execute_result"
    }
   ],
   "source": [
    "df.nunique()"
   ]
  },
  {
   "cell_type": "code",
   "execution_count": 7,
   "metadata": {},
   "outputs": [
    {
     "data": {
      "text/plain": [
       "place           0\n",
       "weight          0\n",
       "x_coordinate    0\n",
       "y_coordinate    0\n",
       "dtype: int64"
      ]
     },
     "execution_count": 7,
     "metadata": {},
     "output_type": "execute_result"
    }
   ],
   "source": [
    "df.isnull().sum() # No data point is missing or having NAN value"
   ]
  },
  {
   "cell_type": "code",
   "execution_count": 8,
   "metadata": {},
   "outputs": [
    {
     "data": {
      "text/html": [
       "<div>\n",
       "<style scoped>\n",
       "    .dataframe tbody tr th:only-of-type {\n",
       "        vertical-align: middle;\n",
       "    }\n",
       "\n",
       "    .dataframe tbody tr th {\n",
       "        vertical-align: top;\n",
       "    }\n",
       "\n",
       "    .dataframe thead th {\n",
       "        text-align: right;\n",
       "    }\n",
       "</style>\n",
       "<table border=\"1\" class=\"dataframe\">\n",
       "  <thead>\n",
       "    <tr style=\"text-align: right;\">\n",
       "      <th></th>\n",
       "      <th>place</th>\n",
       "      <th>weight</th>\n",
       "      <th>x_coordinate</th>\n",
       "      <th>y_coordinate</th>\n",
       "    </tr>\n",
       "  </thead>\n",
       "  <tbody>\n",
       "    <tr>\n",
       "      <th>95</th>\n",
       "      <td>96</td>\n",
       "      <td>90</td>\n",
       "      <td>19</td>\n",
       "      <td>-7</td>\n",
       "    </tr>\n",
       "    <tr>\n",
       "      <th>96</th>\n",
       "      <td>97</td>\n",
       "      <td>101</td>\n",
       "      <td>25</td>\n",
       "      <td>13</td>\n",
       "    </tr>\n",
       "    <tr>\n",
       "      <th>97</th>\n",
       "      <td>98</td>\n",
       "      <td>143</td>\n",
       "      <td>-15</td>\n",
       "      <td>-26</td>\n",
       "    </tr>\n",
       "    <tr>\n",
       "      <th>98</th>\n",
       "      <td>99</td>\n",
       "      <td>130</td>\n",
       "      <td>3</td>\n",
       "      <td>9</td>\n",
       "    </tr>\n",
       "    <tr>\n",
       "      <th>99</th>\n",
       "      <td>100</td>\n",
       "      <td>119</td>\n",
       "      <td>-36</td>\n",
       "      <td>-19</td>\n",
       "    </tr>\n",
       "  </tbody>\n",
       "</table>\n",
       "</div>"
      ],
      "text/plain": [
       "    place  weight  x_coordinate  y_coordinate\n",
       "95     96      90            19            -7\n",
       "96     97     101            25            13\n",
       "97     98     143           -15           -26\n",
       "98     99     130             3             9\n",
       "99    100     119           -36           -19"
      ]
     },
     "execution_count": 8,
     "metadata": {},
     "output_type": "execute_result"
    }
   ],
   "source": [
    "#Understand the distribution of the data\n",
    "df.tail()"
   ]
  },
  {
   "cell_type": "code",
   "execution_count": 9,
   "metadata": {},
   "outputs": [
    {
     "data": {
      "text/html": [
       "<div>\n",
       "<style scoped>\n",
       "    .dataframe tbody tr th:only-of-type {\n",
       "        vertical-align: middle;\n",
       "    }\n",
       "\n",
       "    .dataframe tbody tr th {\n",
       "        vertical-align: top;\n",
       "    }\n",
       "\n",
       "    .dataframe thead th {\n",
       "        text-align: right;\n",
       "    }\n",
       "</style>\n",
       "<table border=\"1\" class=\"dataframe\">\n",
       "  <thead>\n",
       "    <tr style=\"text-align: right;\">\n",
       "      <th></th>\n",
       "      <th>place</th>\n",
       "      <th>weight</th>\n",
       "      <th>x_coordinate</th>\n",
       "      <th>y_coordinate</th>\n",
       "    </tr>\n",
       "  </thead>\n",
       "  <tbody>\n",
       "    <tr>\n",
       "      <th>0</th>\n",
       "      <td>1</td>\n",
       "      <td>109</td>\n",
       "      <td>14</td>\n",
       "      <td>-2</td>\n",
       "    </tr>\n",
       "    <tr>\n",
       "      <th>1</th>\n",
       "      <td>2</td>\n",
       "      <td>94</td>\n",
       "      <td>12</td>\n",
       "      <td>3</td>\n",
       "    </tr>\n",
       "    <tr>\n",
       "      <th>2</th>\n",
       "      <td>3</td>\n",
       "      <td>112</td>\n",
       "      <td>-19</td>\n",
       "      <td>-5</td>\n",
       "    </tr>\n",
       "    <tr>\n",
       "      <th>3</th>\n",
       "      <td>4</td>\n",
       "      <td>117</td>\n",
       "      <td>24</td>\n",
       "      <td>16</td>\n",
       "    </tr>\n",
       "    <tr>\n",
       "      <th>4</th>\n",
       "      <td>5</td>\n",
       "      <td>114</td>\n",
       "      <td>-1</td>\n",
       "      <td>9</td>\n",
       "    </tr>\n",
       "  </tbody>\n",
       "</table>\n",
       "</div>"
      ],
      "text/plain": [
       "   place  weight  x_coordinate  y_coordinate\n",
       "0      1     109            14            -2\n",
       "1      2      94            12             3\n",
       "2      3     112           -19            -5\n",
       "3      4     117            24            16\n",
       "4      5     114            -1             9"
      ]
     },
     "execution_count": 9,
     "metadata": {},
     "output_type": "execute_result"
    }
   ],
   "source": [
    "df.head()"
   ]
  },
  {
   "cell_type": "markdown",
   "metadata": {},
   "source": [
    "### Visualization and Understanding the data : plotting with matplolib and Seaborn\n",
    "Plotting the Scatter chart for showing the location based on x and y coordinates"
   ]
  },
  {
   "cell_type": "code",
   "execution_count": 10,
   "metadata": {},
   "outputs": [
    {
     "data": {
      "image/png": "[encoded data removed]",
      "text/plain": [
       "<Figure size 576x576 with 1 Axes>"
      ]
     },
     "metadata": {},
     "output_type": "display_data"
    }
   ],
   "source": [
    "plt.figure(figsize=(8,8))\n",
    "plt.scatter(df.x_coordinate,df.y_coordinate)\n",
    "plt.xlabel(\"x_coordinate\")\n",
    "plt.ylabel(\"y_coordinate\")\n",
    "plt.show()"
   ]
  },
  {
   "cell_type": "code",
   "execution_count": 11,
   "metadata": {},
   "outputs": [
    {
     "name": "stderr",
     "output_type": "stream",
     "text": [
      "C:\\Users\\DELL\\anaconda3\\lib\\site-packages\\seaborn\\distributions.py:2557: FutureWarning: `distplot` is a deprecated function and will be removed in a future version. Please adapt your code to use either `displot` (a figure-level function with similar flexibility) or `histplot` (an axes-level function for histograms).\n",
      "  warnings.warn(msg, FutureWarning)\n"
     ]
    },
    {
     "data": {
      "text/plain": [
       "<matplotlib.axes._subplots.AxesSubplot at 0xcc7a8e7488>"
      ]
     },
     "execution_count": 11,
     "metadata": {},
     "output_type": "execute_result"
    },
    {
     "data": {
      "image/png": "[encoded data removed]",
      "text/plain": [
       "<Figure size 432x288 with 1 Axes>"
      ]
     },
     "metadata": {},
     "output_type": "display_data"
    }
   ],
   "source": [
    "# Plotting the distribution chart for showing the weights distribution\n",
    "sns.distplot(df['weight'])"
   ]
  },
  {
   "cell_type": "markdown",
   "metadata": {},
   "source": [
    "Creating Copy for future reference"
   ]
  },
  {
   "cell_type": "code",
   "execution_count": 79,
   "metadata": {},
   "outputs": [],
   "source": [
    "df1=df.copy()"
   ]
  },
  {
   "cell_type": "markdown",
   "metadata": {},
   "source": [
    "## Getting the Vertices of poinys from x and y cordinates \n",
    "## Finding the distance between all points with each other \n",
    "\n",
    "Creating Distance matrix from the x_coordinate and y_coordinate\n",
    "Distance Matrix is created to get distance between any two places \n",
    "\n",
    "'''\n",
    "scipy.spatial.distance_matrix(x, y, p=2, threshold=1000000).\n",
    "\n",
    "Compute the distance matrix.\n",
    "Returns the matrix of all pair-wise distances.\n",
    "\n",
    "Parameters:\n",
    "x(M, K) array_like : Matrix of M vectors in K dimensions.\n",
    "y(N, K) array_like : Matrix of N vectors in K dimensions.\n",
    "\n",
    "pfloat, 1 <= p <= infinity : Which Minkowski p-norm to use.\n",
    "Minkowski distance is  used with p being 1 or 2, which correspond to the Manhattan distance and the Euclidean distance\n",
    "\n",
    "thresholdpositive int: If M * N * K > threshold, algorithm uses a Python loop instead of large temporary arrays.\n",
    "Returns: result(M, N) ndarray\n",
    "'''"
   ]
  },
  {
   "cell_type": "code",
   "execution_count": 80,
   "metadata": {},
   "outputs": [],
   "source": [
    "pair=df[['x_coordinate','y_coordinate']].to_numpy() # Created vertices from the x y coordinates\n",
    "dist_mat = distance_matrix(pair, pair, p=2) "
   ]
  },
  {
   "cell_type": "code",
   "execution_count": 81,
   "metadata": {},
   "outputs": [],
   "source": [
    "dist_mat=np.array(dist_mat)"
   ]
  },
  {
   "cell_type": "code",
   "execution_count": 84,
   "metadata": {},
   "outputs": [
    {
     "data": {
      "text/plain": [
       "(100, 100)"
      ]
     },
     "execution_count": 84,
     "metadata": {},
     "output_type": "execute_result"
    }
   ],
   "source": [
    "dist_mat.shape"
   ]
  },
  {
   "cell_type": "code",
   "execution_count": 15,
   "metadata": {},
   "outputs": [],
   "source": [
    "# Total Number of Places required to visit to collect weights/parcels\n",
    "noofplaces = len(df[\"place\"])"
   ]
  },
  {
   "cell_type": "markdown",
   "metadata": {},
   "source": [
    "##### Get the Starting point of the truck for the transportation"
   ]
  },
  {
   "cell_type": "code",
   "execution_count": 58,
   "metadata": {},
   "outputs": [
    {
     "name": "stdout",
     "output_type": "stream",
     "text": [
      "Enter Any place number from 1-100 as a Starting Point: 19\n"
     ]
    }
   ],
   "source": [
    "start_point= int(input('Enter Any place number from 1-100 as a Starting Point: '))"
   ]
  },
  {
   "cell_type": "code",
   "execution_count": 61,
   "metadata": {},
   "outputs": [
    {
     "data": {
      "text/plain": [
       "19"
      ]
     },
     "execution_count": 61,
     "metadata": {},
     "output_type": "execute_result"
    }
   ],
   "source": [
    "start_point "
   ]
  },
  {
   "cell_type": "code",
   "execution_count": 62,
   "metadata": {},
   "outputs": [],
   "source": [
    "# Simplification for creating parmaters according to starting point\n",
    "index=start_point-1"
   ]
  },
  {
   "cell_type": "code",
   "execution_count": 63,
   "metadata": {},
   "outputs": [
    {
     "data": {
      "text/plain": [
       "18"
      ]
     },
     "execution_count": 63,
     "metadata": {},
     "output_type": "execute_result"
    }
   ],
   "source": [
    "index"
   ]
  },
  {
   "cell_type": "code",
   "execution_count": 86,
   "metadata": {},
   "outputs": [],
   "source": [
    "dist_mat_row = dist_mat[index] # Extracting List of values for the start_point data from the distance matrix"
   ]
  },
  {
   "cell_type": "code",
   "execution_count": 88,
   "metadata": {},
   "outputs": [],
   "source": [
    "df['dist']=dist_mat_row # Adding extracted list to dataframe "
   ]
  },
  {
   "cell_type": "code",
   "execution_count": 91,
   "metadata": {},
   "outputs": [],
   "source": [
    "df=df.sort_values(\"dist\", ignore_index=True) # Sorting The values According to the distance "
   ]
  },
  {
   "cell_type": "code",
   "execution_count": 92,
   "metadata": {},
   "outputs": [
    {
     "data": {
      "text/html": [
       "<div>\n",
       "<style scoped>\n",
       "    .dataframe tbody tr th:only-of-type {\n",
       "        vertical-align: middle;\n",
       "    }\n",
       "\n",
       "    .dataframe tbody tr th {\n",
       "        vertical-align: top;\n",
       "    }\n",
       "\n",
       "    .dataframe thead th {\n",
       "        text-align: right;\n",
       "    }\n",
       "</style>\n",
       "<table border=\"1\" class=\"dataframe\">\n",
       "  <thead>\n",
       "    <tr style=\"text-align: right;\">\n",
       "      <th></th>\n",
       "      <th>place</th>\n",
       "      <th>weight</th>\n",
       "      <th>x_coordinate</th>\n",
       "      <th>y_coordinate</th>\n",
       "      <th>dist</th>\n",
       "    </tr>\n",
       "  </thead>\n",
       "  <tbody>\n",
       "    <tr>\n",
       "      <th>0</th>\n",
       "      <td>19</td>\n",
       "      <td>102</td>\n",
       "      <td>-5</td>\n",
       "      <td>12</td>\n",
       "      <td>0.000000</td>\n",
       "    </tr>\n",
       "    <tr>\n",
       "      <th>1</th>\n",
       "      <td>45</td>\n",
       "      <td>82</td>\n",
       "      <td>-7</td>\n",
       "      <td>10</td>\n",
       "      <td>2.828427</td>\n",
       "    </tr>\n",
       "    <tr>\n",
       "      <th>2</th>\n",
       "      <td>64</td>\n",
       "      <td>81</td>\n",
       "      <td>-7</td>\n",
       "      <td>15</td>\n",
       "      <td>3.605551</td>\n",
       "    </tr>\n",
       "    <tr>\n",
       "      <th>3</th>\n",
       "      <td>5</td>\n",
       "      <td>114</td>\n",
       "      <td>-1</td>\n",
       "      <td>9</td>\n",
       "      <td>5.000000</td>\n",
       "    </tr>\n",
       "    <tr>\n",
       "      <th>4</th>\n",
       "      <td>77</td>\n",
       "      <td>88</td>\n",
       "      <td>-5</td>\n",
       "      <td>18</td>\n",
       "      <td>6.000000</td>\n",
       "    </tr>\n",
       "    <tr>\n",
       "      <th>...</th>\n",
       "      <td>...</td>\n",
       "      <td>...</td>\n",
       "      <td>...</td>\n",
       "      <td>...</td>\n",
       "      <td>...</td>\n",
       "    </tr>\n",
       "    <tr>\n",
       "      <th>95</th>\n",
       "      <td>30</td>\n",
       "      <td>97</td>\n",
       "      <td>-30</td>\n",
       "      <td>-40</td>\n",
       "      <td>57.697487</td>\n",
       "    </tr>\n",
       "    <tr>\n",
       "      <th>96</th>\n",
       "      <td>38</td>\n",
       "      <td>77</td>\n",
       "      <td>-35</td>\n",
       "      <td>-45</td>\n",
       "      <td>64.412732</td>\n",
       "    </tr>\n",
       "    <tr>\n",
       "      <th>97</th>\n",
       "      <td>23</td>\n",
       "      <td>103</td>\n",
       "      <td>40</td>\n",
       "      <td>-36</td>\n",
       "      <td>65.795137</td>\n",
       "    </tr>\n",
       "    <tr>\n",
       "      <th>98</th>\n",
       "      <td>24</td>\n",
       "      <td>146</td>\n",
       "      <td>-16</td>\n",
       "      <td>-58</td>\n",
       "      <td>70.859015</td>\n",
       "    </tr>\n",
       "    <tr>\n",
       "      <th>99</th>\n",
       "      <td>13</td>\n",
       "      <td>120</td>\n",
       "      <td>49</td>\n",
       "      <td>-41</td>\n",
       "      <td>75.663730</td>\n",
       "    </tr>\n",
       "  </tbody>\n",
       "</table>\n",
       "<p>100 rows × 5 columns</p>\n",
       "</div>"
      ],
      "text/plain": [
       "    place  weight  x_coordinate  y_coordinate       dist\n",
       "0      19     102            -5            12   0.000000\n",
       "1      45      82            -7            10   2.828427\n",
       "2      64      81            -7            15   3.605551\n",
       "3       5     114            -1             9   5.000000\n",
       "4      77      88            -5            18   6.000000\n",
       "..    ...     ...           ...           ...        ...\n",
       "95     30      97           -30           -40  57.697487\n",
       "96     38      77           -35           -45  64.412732\n",
       "97     23     103            40           -36  65.795137\n",
       "98     24     146           -16           -58  70.859015\n",
       "99     13     120            49           -41  75.663730\n",
       "\n",
       "[100 rows x 5 columns]"
      ]
     },
     "execution_count": 92,
     "metadata": {},
     "output_type": "execute_result"
    }
   ],
   "source": [
    "df"
   ]
  },
  {
   "cell_type": "markdown",
   "metadata": {},
   "source": [
    "###### Defining Variables required for the programm"
   ]
  },
  {
   "cell_type": "code",
   "execution_count": 93,
   "metadata": {},
   "outputs": [],
   "source": [
    "# Transportation distance\n",
    "dist_travel=0\n",
    "totaldist=[]\n",
    "placepointpath=[]\n",
    "\n",
    "# Transported Weight\n",
    "wt0= df['weight'][0] \n",
    "totalwt=[]\n",
    "\n",
    "#Transportation Cost\n",
    "cost1,cost = 0,0    \n",
    "totalcost=[]"
   ]
  },
  {
   "cell_type": "markdown",
   "metadata": {},
   "source": [
    "##### Programm to get Minimum distance to reach destination for places data or dist data"
   ]
  },
  {
   "cell_type": "code",
   "execution_count": 94,
   "metadata": {},
   "outputs": [
    {
     "name": "stderr",
     "output_type": "stream",
     "text": [
      "C:\\Users\\DELL\\anaconda3\\lib\\site-packages\\ipykernel_launcher.py:23: SettingWithCopyWarning: \n",
      "A value is trying to be set on a copy of a slice from a DataFrame.\n",
      "Try using .loc[row_indexer,col_indexer] = value instead\n",
      "\n",
      "See the caveats in the documentation: https://pandas.pydata.org/pandas-docs/stable/user_guide/indexing.html#returning-a-view-versus-a-copy\n"
     ]
    }
   ],
   "source": [
    "for i in range(noofplaces): \n",
    "    # Staring Point\n",
    "    if i==0:\n",
    "        cost=0\n",
    "        wt=wt0\n",
    "        placepointpath.append(df['place'][0]) \n",
    "    # 1st Point\n",
    "    elif i==1:  \n",
    "        # Get the Transportation Cost, weights, distance travelled by the truk \n",
    "        # and place to visit as next stop/destination \n",
    "        cost0= wt0*np.array(df['dist'][i])\n",
    "        wt = wt0+df['weight'][i]\n",
    "        cost= cost0 \n",
    "        dist_travel=dist_travel+np.array(df['dist'][i])\n",
    "        placepointpath.append(df['place'][i])              \n",
    "        # Dropping the place/location which is considered already for cost calulation\n",
    "        df = df.iloc[1: , :]\n",
    "        df.reset_index(inplace = True, drop = True)\n",
    "        #print('****** row 0 removed ******')\n",
    "        # Recreating Distance Matrix for remaining locations\n",
    "        pair=df[['x_coordinate','y_coordinate']].to_numpy()\n",
    "        dist_mat = distance_matrix(pair, pair, p=2)     \n",
    "        df['dist'] = dist_mat[0]\n",
    "        df=df.sort_values(\"dist\")\n",
    "        df.reset_index(inplace = True, drop = True) # Reseting The Index\n",
    "    # End Point\n",
    "    elif i==(noofplaces-1):\n",
    "        #print('This is the destination point')\n",
    "        j=1        \n",
    "        cost1 = wt * np.array(df['dist'][j])\n",
    "        wt= wt+df['weight'][j]\n",
    "        dist_travel=dist_travel+np.array(df['dist'][j])\n",
    "        cost=cost+cost1 \n",
    "        placepointpath.append(df['place'][1])\n",
    "    # In between Places\n",
    "    else:\n",
    "        j=1        \n",
    "        cost1 = wt * np.array(df['dist'][j])\n",
    "        wt= wt+df['weight'][j]\n",
    "        dist_travel=dist_travel+np.array(df['dist'][j])\n",
    "        cost=cost+cost1 \n",
    "        placepointpath.append(df['place'][j])\n",
    "        #print('#####################')       \n",
    "        # Dropping the place/location which is considered already for cost calulation\n",
    "        df = df.iloc[1: , :]\n",
    "        df.reset_index(inplace = True, drop = True)\n",
    "        #print('****** row 0 removed ******')\n",
    "        # Recreating Distance Matrix for remaining locations\n",
    "        pair=df[['x_coordinate','y_coordinate']].to_numpy()\n",
    "        dist_mat = distance_matrix(pair, pair, p=2)     \n",
    "        df['dist'] = dist_mat[0]\n",
    "        df=df.sort_values(\"dist\")\n",
    "        df.reset_index(inplace = True, drop = True)\n",
    "        df2=df[['place','weight','dist']]        \n",
    "    #print(wt,placepointpath)\n",
    "    totalcost.append(cost)  # Get the sum of all cost valeues at each stop point\n",
    "    totaldist.append(dist_travel) # Get the sum of all distance covered valeues at each stop point\n",
    "    totalwt.append(wt)  # Get the sum of all wights valeues at each stop point"
   ]
  },
  {
   "cell_type": "code",
   "execution_count": 95,
   "metadata": {},
   "outputs": [
    {
     "data": {
      "text/plain": [
       "100"
      ]
     },
     "execution_count": 95,
     "metadata": {},
     "output_type": "execute_result"
    }
   ],
   "source": [
    "len(totalcost)"
   ]
  },
  {
   "cell_type": "code",
   "execution_count": 96,
   "metadata": {},
   "outputs": [
    {
     "data": {
      "text/plain": [
       "[0,\n",
       " 288.4995667241114,\n",
       " 1208.4995667241114,\n",
       " 2163.9706547220685,\n",
       " 3436.7302549608567,\n",
       " 5716.730254960857,\n",
       " 7309.134726192962,\n",
       " 9283.134726192962,\n",
       " 10803.134726192962,\n",
       " 14363.134726192962,\n",
       " 16371.134726192962,\n",
       " 23803.824683402265,\n",
       " 28119.66956013266,\n",
       " 34579.669560132665,\n",
       " 42949.669560132665,\n",
       " 46312.715798292345,\n",
       " 49847.939270719515,\n",
       " 54554.44200629718,\n",
       " 57002.44568276501,\n",
       " 68726.56616150455,\n",
       " 90293.44180449002,\n",
       " 97634.34420133471,\n",
       " 99787.34420133471,\n",
       " 104894.52346194423,\n",
       " 115609.76121012322,\n",
       " 124558.73947582484,\n",
       " 135525.9656520282,\n",
       " 157245.6880259445,\n",
       " 168637.82886952607,\n",
       " 171494.82886952607,\n",
       " 189278.82886952607,\n",
       " 207788.67524922354,\n",
       " 224611.93010671172,\n",
       " 231805.36079032853,\n",
       " 246572.35371373713,\n",
       " 256907.35371373713,\n",
       " 268136.60168499505,\n",
       " 291508.00515162497,\n",
       " 356125.5966031794,\n",
       " 417990.07281529973,\n",
       " 458445.69363614486,\n",
       " 476638.34270108317,\n",
       " 506110.55334093847,\n",
       " 521517.0739409961,\n",
       " 550784.9676984908,\n",
       " 560697.4570427474,\n",
       " 573544.1730433446,\n",
       " 590158.5533206827,\n",
       " 596808.1854909611,\n",
       " 615992.1854909611,\n",
       " 640977.3811075657,\n",
       " 667951.6716265024,\n",
       " 700434.587751752,\n",
       " 716995.4358580539,\n",
       " 748214.3523030556,\n",
       " 772636.6867533083,\n",
       " 825487.8332877024,\n",
       " 858380.2329265247,\n",
       " 920546.5754600854,\n",
       " 941725.5836521608,\n",
       " 1022156.9488028283,\n",
       " 1076654.3975504532,\n",
       " 1107879.3975504532,\n",
       " 1235383.9295875537,\n",
       " 1301275.9624898706,\n",
       " 1680614.470949004,\n",
       " 1714329.1879728795,\n",
       " 1759274.1543206254,\n",
       " 1793937.288974029,\n",
       " 1859078.9286908798,\n",
       " 1887190.9286908798,\n",
       " 1908664.9286908798,\n",
       " 1918946.2612893323,\n",
       " 1971045.888927157,\n",
       " 1994573.2347188098,\n",
       " 2068754.8316819381,\n",
       " 2195600.051954521,\n",
       " 2211124.051954521,\n",
       " 2258272.051954521,\n",
       " 2333825.1898112637,\n",
       " 2427563.572472797,\n",
       " 2559633.6439689538,\n",
       " 2688046.5557808117,\n",
       " 2821670.415701112,\n",
       " 2896605.5257630846,\n",
       " 2905056.5257630846,\n",
       " 2932179.381254349,\n",
       " 3014287.920700621,\n",
       " 3150465.981136214,\n",
       " 3218177.81982045,\n",
       " 3245051.81982045,\n",
       " 3283541.056133996,\n",
       " 3329361.056133996,\n",
       " 3385626.6095392546,\n",
       " 3444969.9121099743,\n",
       " 3763657.4246390974,\n",
       " 3831143.6958355415,\n",
       " 4052635.7492595864,\n",
       " 5089088.8781703925,\n",
       " 5398102.546259686]"
      ]
     },
     "execution_count": 96,
     "metadata": {},
     "output_type": "execute_result"
    }
   ],
   "source": [
    "totalcost"
   ]
  },
  {
   "cell_type": "code",
   "execution_count": 97,
   "metadata": {},
   "outputs": [
    {
     "data": {
      "text/plain": [
       "100"
      ]
     },
     "execution_count": 97,
     "metadata": {},
     "output_type": "execute_result"
    }
   ],
   "source": [
    "len(totaldist)"
   ]
  },
  {
   "cell_type": "code",
   "execution_count": 98,
   "metadata": {},
   "outputs": [
    {
     "data": {
      "text/plain": [
       "[0,\n",
       " 2.8284271247461903,\n",
       " 7.82842712474619,\n",
       " 11.43397840021018,\n",
       " 15.039529675674169,\n",
       " 20.039529675674167,\n",
       " 22.86795680042036,\n",
       " 25.86795680042036,\n",
       " 27.86795680042036,\n",
       " 31.86795680042036,\n",
       " 33.86795680042036,\n",
       " 40.57616073291973,\n",
       " 44.18171200838372,\n",
       " 49.18171200838372,\n",
       " 55.18171200838372,\n",
       " 57.41777998588351,\n",
       " 59.6538479633833,\n",
       " 62.48227508812949,\n",
       " 63.89648865050258,\n",
       " 70.29961288793544,\n",
       " 81.47995277543438,\n",
       " 85.08550405089838,\n",
       " 86.08550405089838,\n",
       " 88.32157202839817,\n",
       " 92.79370798339775,\n",
       " 96.39925925886175,\n",
       " 100.64189994598104,\n",
       " 108.70415769427959,\n",
       " 112.82726331989724,\n",
       " 113.82726331989724,\n",
       " 119.82726331989724,\n",
       " 125.91002585019547,\n",
       " 131.29519065732998,\n",
       " 133.53125863482978,\n",
       " 138.00339458982936,\n",
       " 141.00339458982936,\n",
       " 144.16567224999773,\n",
       " 150.56879648743057,\n",
       " 167.68603925605427,\n",
       " 183.71725879793567,\n",
       " 193.91529782512123,\n",
       " 198.3874337801208,\n",
       " 205.45850159198628,\n",
       " 209.06405286745027,\n",
       " 215.77225679994964,\n",
       " 218.00832477744945,\n",
       " 220.83675190219563,\n",
       " 224.44230317765962,\n",
       " 225.85651674003273,\n",
       " 229.85651674003273,\n",
       " 234.95553625362552,\n",
       " 240.34070106076004,\n",
       " 246.6652563810968,\n",
       " 249.82753404126518,\n",
       " 255.65848593611048,\n",
       " 260.1306218911101,\n",
       " 269.6174548716152,\n",
       " 275.44840676646055,\n",
       " 286.2187363807296,\n",
       " 289.8242876561936,\n",
       " 303.2406955211923,\n",
       " 312.18496743119147,\n",
       " 317.18496743119147,\n",
       " 337.43342416250806,\n",
       " 347.72905430349505,\n",
       " 405.90980713465046,\n",
       " 411.00882664824326,\n",
       " 417.71703058074263,\n",
       " 422.8160500943354,\n",
       " 432.250031226392,\n",
       " 436.250031226392,\n",
       " 439.250031226392,\n",
       " 440.66424478876513,\n",
       " 447.7353126006306,\n",
       " 450.897590260799,\n",
       " 460.7464480625951,\n",
       " 477.299393419842,\n",
       " 479.299393419842,\n",
       " 485.299393419842,\n",
       " 494.7862264003471,\n",
       " 506.4481301900377,\n",
       " 522.7269507861374,\n",
       " 538.379426628636,\n",
       " 554.5039421252332,\n",
       " 563.4482140352324,\n",
       " 564.4482140352324,\n",
       " 567.6104916954007,\n",
       " 577.0973246759058,\n",
       " 592.6214993721659,\n",
       " 600.2372724780298,\n",
       " 603.2372724780298,\n",
       " 607.4799131651491,\n",
       " 612.4799131651491,\n",
       " 618.5626756954473,\n",
       " 624.8872310157841,\n",
       " 658.6214866026501,\n",
       " 665.6925544145156,\n",
       " 688.7142832809583,\n",
       " 794.8321422868768,\n",
       " 826.2327792230919]"
      ]
     },
     "execution_count": 98,
     "metadata": {},
     "output_type": "execute_result"
    }
   ],
   "source": [
    "totaldist"
   ]
  },
  {
   "cell_type": "code",
   "execution_count": 99,
   "metadata": {},
   "outputs": [
    {
     "data": {
      "text/plain": [
       "100"
      ]
     },
     "execution_count": 99,
     "metadata": {},
     "output_type": "execute_result"
    }
   ],
   "source": [
    "len(totalwt)"
   ]
  },
  {
   "cell_type": "code",
   "execution_count": 100,
   "metadata": {},
   "outputs": [
    {
     "data": {
      "text/plain": [
       "[102,\n",
       " 184,\n",
       " 265,\n",
       " 353,\n",
       " 456,\n",
       " 563,\n",
       " 658,\n",
       " 760,\n",
       " 890,\n",
       " 1004,\n",
       " 1108,\n",
       " 1197,\n",
       " 1292,\n",
       " 1395,\n",
       " 1504,\n",
       " 1581,\n",
       " 1664,\n",
       " 1731,\n",
       " 1831,\n",
       " 1929,\n",
       " 2036,\n",
       " 2153,\n",
       " 2284,\n",
       " 2396,\n",
       " 2482,\n",
       " 2585,\n",
       " 2694,\n",
       " 2763,\n",
       " 2857,\n",
       " 2964,\n",
       " 3043,\n",
       " 3124,\n",
       " 3217,\n",
       " 3302,\n",
       " 3445,\n",
       " 3551,\n",
       " 3650,\n",
       " 3775,\n",
       " 3859,\n",
       " 3967,\n",
       " 4068,\n",
       " 4168,\n",
       " 4273,\n",
       " 4363,\n",
       " 4433,\n",
       " 4542,\n",
       " 4608,\n",
       " 4702,\n",
       " 4796,\n",
       " 4900,\n",
       " 5009,\n",
       " 5136,\n",
       " 5237,\n",
       " 5354,\n",
       " 5461,\n",
       " 5571,\n",
       " 5641,\n",
       " 5772,\n",
       " 5874,\n",
       " 5995,\n",
       " 6093,\n",
       " 6245,\n",
       " 6297,\n",
       " 6400,\n",
       " 6520,\n",
       " 6612,\n",
       " 6700,\n",
       " 6798,\n",
       " 6905,\n",
       " 7028,\n",
       " 7158,\n",
       " 7270,\n",
       " 7368,\n",
       " 7440,\n",
       " 7532,\n",
       " 7663,\n",
       " 7762,\n",
       " 7858,\n",
       " 7964,\n",
       " 8038,\n",
       " 8113,\n",
       " 8204,\n",
       " 8287,\n",
       " 8378,\n",
       " 8451,\n",
       " 8577,\n",
       " 8655,\n",
       " 8772,\n",
       " 8891,\n",
       " 8958,\n",
       " 9072,\n",
       " 9164,\n",
       " 9250,\n",
       " 9383,\n",
       " 9447,\n",
       " 9544,\n",
       " 9621,\n",
       " 9767,\n",
       " 9841,\n",
       " 9958]"
      ]
     },
     "execution_count": 100,
     "metadata": {},
     "output_type": "execute_result"
    }
   ],
   "source": [
    "totalwt"
   ]
  },
  {
   "cell_type": "code",
   "execution_count": 101,
   "metadata": {},
   "outputs": [
    {
     "data": {
      "text/plain": [
       "61"
      ]
     },
     "execution_count": 101,
     "metadata": {},
     "output_type": "execute_result"
    }
   ],
   "source": [
    "Destination_point=placepointpath[-1]\n",
    "Destination_point"
   ]
  },
  {
   "cell_type": "code",
   "execution_count": 102,
   "metadata": {},
   "outputs": [
    {
     "name": "stdout",
     "output_type": "stream",
     "text": [
      " Total Minimum Cost for transportation from starting point  19  is  5398102.546259686\n"
     ]
    }
   ],
   "source": [
    "print (\" Total Minimum Cost for transportation from starting point \", start_point,' is ', cost)       \n"
   ]
  },
  {
   "cell_type": "code",
   "execution_count": 103,
   "metadata": {},
   "outputs": [
    {
     "name": "stdout",
     "output_type": "stream",
     "text": [
      " Total Minimum distance travelled by truck for transportation: \n",
      " from starting point  19 to the destination point  61  is of  826.2327792230919\n"
     ]
    }
   ],
   "source": [
    "print (\" Total Minimum distance travelled by truck for transportation: \")\n",
    "print(\" from starting point \", start_point,\"to the destination point \", Destination_point, \" is of \", dist_travel) \n"
   ]
  },
  {
   "cell_type": "code",
   "execution_count": 104,
   "metadata": {},
   "outputs": [
    {
     "name": "stdout",
     "output_type": "stream",
     "text": [
      " Total weight carried at the destination point is  9958\n"
     ]
    }
   ],
   "source": [
    "print (\" Total weight carried at the destination point is \", wt)"
   ]
  },
  {
   "cell_type": "code",
   "execution_count": 105,
   "metadata": {},
   "outputs": [
    {
     "name": "stdout",
     "output_type": "stream",
     "text": [
      "The shortest path taken by the Truck is :---19---45---64---77---32---87---21---47---99---5---34---7---39---55---20---8---73---74---90---71---54---70---46---3---9---6---25---79---76---84---93---16---65---67---98---59---92---91---56---78---94---26---35---96---28---1---82---33---2---17---75---53---97---4---89---69---83---40---15---85---62---68---29---23---13---43---27---49---50---72---37---86---14---36---44---11---88---63---48---41---66---52---42---80---81---12---22---60---100---57---95---58---51---18---10---30---38---24---31---61\n"
     ]
    }
   ],
   "source": [
    "print(\"The shortest path taken by the Truck is :\", *placepointpath, sep = \"---\")"
   ]
  },
  {
   "cell_type": "code",
   "execution_count": 106,
   "metadata": {},
   "outputs": [
    {
     "name": "stdout",
     "output_type": "stream",
     "text": [
      "-----------END---------------\n"
     ]
    }
   ],
   "source": [
    "print(\"-----------END---------------\")"
   ]
  },
  {
   "cell_type": "code",
   "execution_count": null,
   "metadata": {},
   "outputs": [],
   "source": []
  }
 ],
 "metadata": {
  "kernelspec": {
   "display_name": "Python 3",
   "language": "python",
   "name": "python3"
  },
  "language_info": {
   "codemirror_mode": {
    "name": "ipython",
    "version": 3
   },
   "file_extension": ".py",
   "mimetype": "text/x-python",
   "name": "python",
   "nbconvert_exporter": "python",
   "pygments_lexer": "ipython3",
   "version": "3.7.6"
  }
 },
 "nbformat": 4,
 "nbformat_minor": 2
}
